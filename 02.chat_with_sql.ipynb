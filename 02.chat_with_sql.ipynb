{
 "cells": [
  {
   "cell_type": "code",
   "execution_count": 14,
   "id": "6c6d5caf",
   "metadata": {},
   "outputs": [
    {
     "data": {
      "text/plain": [
       "True"
      ]
     },
     "execution_count": 14,
     "metadata": {},
     "output_type": "execute_result"
    }
   ],
   "source": [
    "from dotenv import load_dotenv\n",
    "import streamlit as st\n",
    "from langchain_community.utilities import SQLDatabase\n",
    "from langchain_core.messages import HumanMessage, SystemMessage, AIMessage\n",
    "from langchain_core.prompts import ChatPromptTemplate, MessagesPlaceholder\n",
    "from langchain_google_genai import ChatGoogleGenerativeAI\n",
    "from langchain_core.runnables import RunnablePassthrough\n",
    "from langchain_core.output_parsers import StrOutputParser\n",
    "from sqlalchemy import URL\n",
    "from IPython.display import display, Markdown\n",
    "\n",
    "load_dotenv()"
   ]
  },
  {
   "cell_type": "code",
   "execution_count": 2,
   "id": "1ec5cd3b",
   "metadata": {},
   "outputs": [],
   "source": [
    "model = ChatGoogleGenerativeAI(model=\"gemini-2.5-flash\")"
   ]
  },
  {
   "cell_type": "code",
   "execution_count": 3,
   "id": "fc7f468f",
   "metadata": {},
   "outputs": [],
   "source": [
    "def connect_db(host, username, password, database):\n",
    "    db_url = URL.create(\n",
    "        host=host,\n",
    "        username=username,\n",
    "        password=password,\n",
    "        database=database,\n",
    "        drivername=\"postgresql\",\n",
    "    )\n",
    "    return SQLDatabase.from_uri(db_url)\n",
    "\n",
    "db = connect_db(\n",
    "    host=\"ep-cool-leaf-a1sn945g-pooler.ap-southeast-1.aws.neon.tech\",\n",
    "    username=\"neondb_owner\",\n",
    "    password=\"npg_oYRTCrUmf75l\",\n",
    "    database=\"neondb\",\n",
    ")"
   ]
  },
  {
   "cell_type": "code",
   "execution_count": 4,
   "id": "dbdeab9b",
   "metadata": {},
   "outputs": [],
   "source": [
    "prompt_template = ChatPromptTemplate.from_template(\n",
    "        \"\"\" \n",
    "            You are an intelligent agent designed to interact with a **Postgres** SQL database. Your task is to generate accurate and syntactically correct SQL queries based on the user's input question.\n",
    "\n",
    "            ### Responsibilities:\n",
    "            - Analyze the user's question and generate a suitable SQL query.\n",
    "            - Refer to the provided schema `{schema}` to understand the structure of the database.\n",
    "            - Consider the chat history `{chat_history}` for context from prior messages.\n",
    "            - Use only the tools provided to you to interact with the database.\n",
    "            - Construct your final answer solely based on the results returned by these tools.\n",
    "\n",
    "            ### Guidelines:\n",
    "            - **Do not query all columns** (`SELECT *`). Only include the columns relevant to the user's question.\n",
    "            - You may order the results by a meaningful column to return the most relevant or interesting data.\n",
    "            - Always **double-check** your query before executing it.\n",
    "            - If a query fails, **revise and retry** with a corrected version.\n",
    "            - If SQL inbuilt funtions need to be used, remember, that should be compatible with postgres\n",
    "\n",
    "            ### Output Rules:\n",
    "            - Return **only the SQL query** with no explanation or formatting.\n",
    "            - **Do not use words like \"SQL\" or code formatting** (e.g., `sql`, triple backticks) even for complex queries.\n",
    "\n",
    "            ---\n",
    "\n",
    "            **I want to know** `{question}`\n",
    "\n",
    "        \"\"\"\n",
    "    )\n",
    "\n",
    "\n",
    "sql_chain = RunnablePassthrough.assign(schema=lambda _: db.get_table_info()) | prompt_template| model | StrOutputParser()\n"
   ]
  },
  {
   "cell_type": "code",
   "execution_count": 5,
   "id": "2da53f13",
   "metadata": {},
   "outputs": [],
   "source": [
    "prompt_template = ChatPromptTemplate.from_template(\n",
    "            \"\"\"\n",
    "                You are an AI assistant who understands user's questions.\n",
    "                Based upon the user's question, database schema, sql query, and sql query response after execution, \n",
    "                you will return a response in human understandable english language.\n",
    "\n",
    "                If the response has multiple values, try to restructure in tabular format\n",
    "                If the response has single value, add proper answer to understand what the value means w.r.t to the user question\n",
    "                and so on. Try to make the response formatted.\n",
    "\n",
    "                Here are the details:\\n\n",
    "                User Question: {question}\\n\n",
    "                Database Scema: {schema}\\n\n",
    "                Sql query: {query}\\n\n",
    "                Sql query response: {query_response}\\n\n",
    "                Conversation_hisotry: {chat_history}\n",
    "            \"\"\"\n",
    "    )\n",
    "\n",
    "\n",
    "# chain = (\n",
    "#     RunnablePassthrough.assign(query=sql_chain).assign(\n",
    "#         schema=lambda _: db.get_table_info(),\n",
    "#         query_response=lambda x: print(f\"Executable query: {x['query']}\")\n",
    "#         or db.run(x[\"query\"].replace(\"```sql\", \"\").replace(\"```\", \"\")),\n",
    "#     )\n",
    "#     | prompt_template\n",
    "#     | model\n",
    "#     | StrOutputParser()\n",
    "# )\n",
    "\n",
    "chain = (\n",
    "    RunnablePassthrough.assign(query=sql_chain).assign(\n",
    "        schema=lambda _: db.get_table_info(),\n",
    "        query_response=lambda x: print(f\"Executable query: {x['query']}\")\n",
    "        or db.run(x[\"query\"].replace(\"```sql\", \"\").replace(\"```\", \"\")),\n",
    "    )\n",
    "    | prompt_template\n",
    "    | model\n",
    "    | StrOutputParser()\n",
    ")"
   ]
  },
  {
   "cell_type": "code",
   "execution_count": 6,
   "id": "f0434a54",
   "metadata": {},
   "outputs": [],
   "source": [
    "chat_history = []\n"
   ]
  },
  {
   "cell_type": "code",
   "execution_count": 7,
   "id": "acca7c54",
   "metadata": {},
   "outputs": [],
   "source": [
    "user_question = \"What is the total number of orders?\"\n",
    "chat_history.append(HumanMessage(content=user_question))"
   ]
  },
  {
   "cell_type": "code",
   "execution_count": 11,
   "id": "9c4457bf",
   "metadata": {},
   "outputs": [],
   "source": [
    "user_question = \"Give me the customer names whi have bought Smartphone on the month of June?\"\n",
    "chat_history.append(HumanMessage(content=user_question))"
   ]
  },
  {
   "cell_type": "code",
   "execution_count": 15,
   "id": "1d356359",
   "metadata": {},
   "outputs": [
    {
     "name": "stdout",
     "output_type": "stream",
     "text": [
      "Executable query: ```sql\n",
      "SELECT\n",
      "  T1.customer_name\n",
      "FROM customer AS T1\n",
      "INNER JOIN sales AS T2\n",
      "  ON T1.customer_id = T2.customer_id\n",
      "INNER JOIN product AS T3\n",
      "  ON T2.product_id = T3.product_id\n",
      "WHERE\n",
      "  T3.product_category = 'Smartphone' AND EXTRACT(MONTH FROM T2.sale_date) = 6;\n",
      "```\n"
     ]
    },
    {
     "data": {
      "text/markdown": [
       "Here are the customers who bought a Smartphone in the month of June:\n",
       "\n",
       "| Customer Name  |\n",
       "|----------------|\n",
       "| Amandeep Singh |\n",
       "| Prashant Kumar |\n",
       "| Mainak Sinha   |"
      ],
      "text/plain": [
       "<IPython.core.display.Markdown object>"
      ]
     },
     "metadata": {},
     "output_type": "display_data"
    }
   ],
   "source": [
    "response = chain.invoke({\"question\": user_question, \"chat_history\": chat_history})\n",
    "chat_history.append(AIMessage(content=response))\n",
    "display(Markdown((response)))"
   ]
  },
  {
   "cell_type": "code",
   "execution_count": 23,
   "id": "e9a2bb63",
   "metadata": {},
   "outputs": [
    {
     "name": "stdout",
     "output_type": "stream",
     "text": [
      "Step1: {'query': 'What is 3 + 4 ?'}\n",
      "Step 2: {'query': 'what is 2 + 2 ?', 'a': None}\n",
      "2 + 2 = 4\n"
     ]
    }
   ],
   "source": [
    "from langchain_core.prompts import PromptTemplate\n",
    "\n",
    "\n",
    "prompt_template = PromptTemplate.from_template(\"Answer this: {query}\")\n",
    "\n",
    "chain1 = (\n",
    "    RunnablePassthrough()\n",
    "    .assign(a=lambda x: print(f\"Step1: {x}\"))\n",
    "    .assign(query=lambda x: \"what is 2 + 2 ?\")\n",
    "    .assign(b=lambda x: print(f\"Step 2: {x}\"))\n",
    "    | prompt_template\n",
    "    | model\n",
    "    | StrOutputParser()\n",
    ")\n",
    "print(chain1.invoke({\"query\": \"What is 3 + 4 ?\"}))"
   ]
  },
  {
   "cell_type": "code",
   "execution_count": null,
   "id": "ae5db552",
   "metadata": {},
   "outputs": [],
   "source": []
  }
 ],
 "metadata": {
  "kernelspec": {
   "display_name": ".venv",
   "language": "python",
   "name": "python3"
  },
  "language_info": {
   "codemirror_mode": {
    "name": "ipython",
    "version": 3
   },
   "file_extension": ".py",
   "mimetype": "text/x-python",
   "name": "python",
   "nbconvert_exporter": "python",
   "pygments_lexer": "ipython3",
   "version": "3.13.3"
  }
 },
 "nbformat": 4,
 "nbformat_minor": 5
}
